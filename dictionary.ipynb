{
  "nbformat": 4,
  "nbformat_minor": 0,
  "metadata": {
    "colab": {
      "name": "Untitled1.ipynb",
      "version": "0.3.2",
      "provenance": [],
      "collapsed_sections": [],
      "include_colab_link": true
    },
    "kernelspec": {
      "name": "python3",
      "display_name": "Python 3"
    }
  },
  "cells": [
    {
      "cell_type": "markdown",
      "metadata": {
        "id": "view-in-github",
        "colab_type": "text"
      },
      "source": [
        "<a href=\"https://colab.research.google.com/github/pranav21sharma/dictionary/blob/master/dictionary.ipynb\" target=\"_parent\"><img src=\"https://colab.research.google.com/assets/colab-badge.svg\" alt=\"Open In Colab\"/></a>"
      ]
    },
    {
      "cell_type": "code",
      "metadata": {
        "id": "0Iuz0a0Nm4U0",
        "colab_type": "code",
        "colab": {
          "base_uri": "https://localhost:8080/",
          "height": 85
        },
        "outputId": "22531977-2ddd-4f0c-fa46-3ed8b322be3b"
      },
      "source": [
        "def translate(w):\n",
        "    import json \n",
        "    from difflib import get_close_matches\n",
        "    data = json.load(open(\"data.json\"))\n",
        "    w = w.lower()\n",
        "    w1 = w.upper()\n",
        "    w2 = w.title()\n",
        "    if w in data:\n",
        "        return data[w]\n",
        "    elif w1 in data:\n",
        "        return data[w1]\n",
        "    elif w2 in data:\n",
        "        return data[w2]\n",
        "    elif len(get_close_matches(w, data.keys())) >0:\n",
        "        yn = input(\"Did you mean %s instead? Enter Y if yes, or N if no: \" % get_close_matches(w, data.keys())[0])\n",
        "        if yn  == \"Y\" or yn == \"y\":\n",
        "            return data[get_close_matches(w, data.keys())[0]]\n",
        "        elif yn ==\"N\" or yn == \"n\":\n",
        "            return \"The word doesn't exit. Please double check it.\"\n",
        "        else:\n",
        "            return \"We did't understand your entry.\"\n",
        "    else:\n",
        "        return \"The word doesn't exit. Please double check it.\"\n",
        "    \n",
        "word = input(\"Enter a word \")   \n",
        "output = translate(word)\n",
        "if type(output) ==list:\n",
        "    for item in output:\n",
        "        print(item)\n",
        "else:\n",
        "    print(output)"
      ],
      "execution_count": 2,
      "outputs": [
        {
          "output_type": "stream",
          "text": [
            "Enter a word rainn\n",
            "Did you mean rain instead? Enter Y if yes, or N if no: y\n",
            "Precipitation in the form of liquid water drops with diameters greater than 0.5 millimetres.\n",
            "To fall from the clouds in drops of water.\n"
          ],
          "name": "stdout"
        }
      ]
    },
    {
      "cell_type": "code",
      "metadata": {
        "id": "HoFd8xOcm8vQ",
        "colab_type": "code",
        "colab": {}
      },
      "source": [
        ""
      ],
      "execution_count": 0,
      "outputs": []
    }
  ]
}